{
 "cells": [
  {
   "cell_type": "markdown",
   "metadata": {},
   "source": [
    "**Author**: \n",
    "\n",
    "Abdelrahman Khairy Mahmoud\n",
    "\n",
    "&emsp; M.Eng. in Mechanical and Industrial Engineering\n",
    "\n",
    "&emsp; University of Toronto, Toronto, ON, Canada\n",
    "\n",
    "**Project description**:\n",
    "\n",
    "The purpose of this project is to perform web-scraping on Bilgi University's (Istanbul, Turkey) curriculum for the Management Information Systems (MIS) program.\n",
    "\n",
    "**Notes**:\n",
    "\n",
    "\n",
    "- All curriculum webpages observed essentially follow the same outline format. An intended later version of this project will be adapted to obtain data pertaining to any course on the University website\n",
    "- Later versions will support individual course content data mining "
   ]
  },
  {
   "cell_type": "code",
   "execution_count": 1,
   "metadata": {},
   "outputs": [],
   "source": [
    "# importing necessary libraries\n",
    "import time\n",
    "import requests as re\n",
    "from bs4 import BeautifulSoup as bs"
   ]
  },
  {
   "cell_type": "code",
   "execution_count": 2,
   "metadata": {},
   "outputs": [],
   "source": [
    "# browser header for requests object\n",
    "headers = {\"User-Agent\": \"Mozilla/5.0 (Windows NT 10.0; Win64; x64) AppleWebKit/537.36 (KHTML, like Gecko) Chrome/99.0.4844.74 Safari/537.36 Edg/99.0.1150.46\"}\n",
    "\n",
    "# homepage for MIS curriculum\n",
    "home = re.get('https://ects.bilgi.edu.tr/Department/Curriculum?catalog_departmentId=126632', headers)\n",
    "time.sleep(3) # time delay to ensure all page contents are loaded\n",
    "\n",
    "# Create a beautifulSoup object with the webpage's HTML\n",
    "soup = bs(home.text, 'html.parser') "
   ]
  },
  {
   "cell_type": "code",
   "execution_count": 3,
   "metadata": {},
   "outputs": [],
   "source": [
    "container = soup.find(\"div\", {'class':\"panel panel-default\"})\n",
    "container2 = container.find(\"div\", {'class':'panel-body'})\n",
    "\n",
    "# div tags contain table headings\n",
    "divs = container2.find_all(\"div\")\n",
    "divs = [div.text for div in divs]\n",
    "\n",
    "# tables ontain the core curriculum content (incl. electives)\n",
    "tables = container2.find_all(\"table\")\n",
    "tables = [table.find(\"tbody\") for table in tables]"
   ]
  },
  {
   "cell_type": "code",
   "execution_count": 4,
   "metadata": {},
   "outputs": [
    {
     "data": {
      "text/plain": [
       "['Level : 1 | Semester : 1 - 52. Management Information Systems',\n",
       " 'Level : 1 | Semester : 2 - 52. Management Information Systems',\n",
       " 'Level : 2 | Semester : 1 - 52. Management Information Systems',\n",
       " 'Level : 2 | Semester : 2 - 52. Management Information Systems',\n",
       " 'Level : 3 | Semester : 1 - 52. Management Information Systems',\n",
       " 'Level : 3 | Semester : 2 - 52. Management Information Systems',\n",
       " 'Level : 4 | Semester : 1 - 52. Management Information Systems',\n",
       " 'Level : 4 | Semester : 2 - 52. Management Information Systems',\n",
       " '\\nTotal ECTS : 240\\n']"
      ]
     },
     "execution_count": 4,
     "metadata": {},
     "output_type": "execute_result"
    }
   ],
   "source": [
    "divs"
   ]
  },
  {
   "cell_type": "code",
   "execution_count": 5,
   "metadata": {},
   "outputs": [],
   "source": [
    "rows = [0]*len(tables)\n",
    "rows = [table.find_all(\"tr\") for table in tables]"
   ]
  },
  {
   "cell_type": "code",
   "execution_count": 11,
   "metadata": {},
   "outputs": [],
   "source": [
    "tables_container = {}\n",
    "for index, table in enumerate(tables):\n",
    "    label = divs[index]\n",
    "    tables_container[label] = table"
   ]
  },
  {
   "cell_type": "code",
   "execution_count": 7,
   "metadata": {},
   "outputs": [
    {
     "data": {
      "text/plain": [
       "8"
      ]
     },
     "execution_count": 7,
     "metadata": {},
     "output_type": "execute_result"
    }
   ],
   "source": [
    "rows_container = {}\n",
    "for semester, table in tables_container.items():\n",
    "    rows_container[semester] = table.find_all()"
   ]
  },
  {
   "cell_type": "code",
   "execution_count": 34,
   "metadata": {},
   "outputs": [
    {
     "data": {
      "text/plain": [
       "'Core'"
      ]
     },
     "execution_count": 34,
     "metadata": {},
     "output_type": "execute_result"
    }
   ],
   "source": [
    "tables[4].find_all(\"tr\")[0].find_all(\"td\")[2].text.strip()"
   ]
  },
  {
   "cell_type": "code",
   "execution_count": null,
   "metadata": {},
   "outputs": [],
   "source": []
  }
 ],
 "metadata": {
  "interpreter": {
   "hash": "a8a421b33f606ee7e4d0094837695d235f513769dc91ba337a6e5c800d4c8dd0"
  },
  "kernelspec": {
   "display_name": "Python 3.9.7 ('jupyterlab')",
   "language": "python",
   "name": "python3"
  },
  "language_info": {
   "codemirror_mode": {
    "name": "ipython",
    "version": 3
   },
   "file_extension": ".py",
   "mimetype": "text/x-python",
   "name": "python",
   "nbconvert_exporter": "python",
   "pygments_lexer": "ipython3",
   "version": "3.9.7"
  },
  "orig_nbformat": 4
 },
 "nbformat": 4,
 "nbformat_minor": 2
}
